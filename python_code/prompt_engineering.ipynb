{
 "cells": [
  {
   "cell_type": "code",
   "execution_count": 39,
   "metadata": {},
   "outputs": [
    {
     "data": {
      "text/plain": [
       "True"
      ]
     },
     "execution_count": 39,
     "metadata": {},
     "output_type": "execute_result"
    }
   ],
   "source": [
    "from openai import OpenAI\n",
    "import os\n",
    "import json\n",
    "from sklearn.metrics.pairwise import cosine_similarity\n",
    "from dotenv import load_dotenv\n",
    "load_dotenv()\n"
   ]
  },
  {
   "cell_type": "code",
   "execution_count": 5,
   "metadata": {},
   "outputs": [],
   "source": [
    "def get_chatbot_response(client, model_name, messages, temperature = 0):\n",
    "    input_messages = []\n",
    "    for message in messages:\n",
    "        input_messages.append({\"role\": message['role'], \"content\": message[\"content\"]})\n",
    "    \n",
    "    response = client.chat.completions.create(\n",
    "        model = model_name,\n",
    "        messages = input_messages,\n",
    "        temperature = temperature,\n",
    "        top_p = 0.8,\n",
    "        max_tokens = 2000\n",
    "    ).choices[0].message.content\n",
    "    return response\n"
   ]
  },
  {
   "cell_type": "code",
   "execution_count": 6,
   "metadata": {},
   "outputs": [],
   "source": [
    "client = OpenAI(\n",
    "    api_key= os.getenv('RUNPOD_TOKEN'),\n",
    "    base_url=os.getenv('RUNPOD_CHATBOT_URL')\n",
    ")\n",
    "model_name = os.getenv('MODEL_NAME')"
   ]
  },
  {
   "cell_type": "markdown",
   "metadata": {},
   "source": [
    "# LLM RESPONSES"
   ]
  },
  {
   "cell_type": "code",
   "execution_count": 7,
   "metadata": {},
   "outputs": [],
   "source": [
    "messages = [{'role':'user', 'content': \"What is the capital of Nepal?\"}]\n",
    "response = get_chatbot_response(client,model_name, messages)"
   ]
  },
  {
   "cell_type": "code",
   "execution_count": 8,
   "metadata": {},
   "outputs": [
    {
     "data": {
      "text/plain": [
       "'The capital of Nepal is Kathmandu.'"
      ]
     },
     "execution_count": 8,
     "metadata": {},
     "output_type": "execute_result"
    }
   ],
   "source": [
    "response"
   ]
  },
  {
   "cell_type": "markdown",
   "metadata": {},
   "source": [
    "# PROMPT ENGINEERING\n"
   ]
  },
  {
   "cell_type": "markdown",
   "metadata": {},
   "source": [
    "## STRUCTURED OUTPUT\n"
   ]
  },
  {
   "cell_type": "code",
   "execution_count": 9,
   "metadata": {},
   "outputs": [
    {
     "name": "stdout",
     "output_type": "stream",
     "text": [
      "[\n",
      "{\n",
      "\"country\": \"Nepal\",\n",
      "\"capital\": \"Kathmandu\"\n",
      "}\n",
      "]\n"
     ]
    }
   ],
   "source": [
    "systeme_prompt = \"\"\"\n",
    "You are a helpful assistant that answer questions about capitals of countries. \n",
    "Your output should be in a structered json format exactly like the one below. You are not \n",
    "allowed to write anything other than the JSON object. \n",
    "[\n",
    "{\n",
    "\"country\": the country the user is asking about. \n",
    "\"capital\": the capital of the country stated.\n",
    "}\n",
    "]\n",
    "\n",
    "\"\"\"\n",
    "\n",
    "messages = [{\"role\": \"system\", \"content\": systeme_prompt}]\n",
    "\n",
    "messages.append({\"role\":\"user\", \"content\": \"what is the capital of Nepal?\" })\n",
    "response = get_chatbot_response(client,model_name, messages)\n",
    "print(response)"
   ]
  },
  {
   "cell_type": "code",
   "execution_count": 10,
   "metadata": {},
   "outputs": [
    {
     "data": {
      "text/plain": [
       "[{'country': 'Nepal', 'capital': 'Kathmandu'}]"
      ]
     },
     "execution_count": 10,
     "metadata": {},
     "output_type": "execute_result"
    }
   ],
   "source": [
    "json_response = json.loads(response)\n",
    "json_response"
   ]
  },
  {
   "cell_type": "markdown",
   "metadata": {},
   "source": [
    "# RAG(Retrival Augmented Generation)\n"
   ]
  },
  {
   "cell_type": "code",
   "execution_count": 11,
   "metadata": {},
   "outputs": [],
   "source": [
    "user_prompt = \"\"\"\n",
    "What happened between Donald Trump and Zelendskey oval meeting?\n",
    "\"\"\"\n",
    "messages = [{\"role\": \"user\", \"content\": user_prompt}]\n",
    "response = get_chatbot_response(client, model_name, messages)"
   ]
  },
  {
   "cell_type": "code",
   "execution_count": 13,
   "metadata": {},
   "outputs": [
    {
     "name": "stdout",
     "output_type": "stream",
     "text": [
      "I believe you are referring to the meeting between Donald Trump and Volodymyr Zelenskyy, not Zelenskey. \n",
      "\n",
      "Donald Trump, the 45th President of the United States, and Volodymyr Zelenskyy, the President of Ukraine, had a phone call in April 2019, not an Oval Office meeting. However, they did meet in person at the United Nations General Assembly in New York City in September 2019.\n",
      "\n",
      "The phone call in April 2019 was the subject of a controversy known as the \"Ukraine scandal\" or \"Impeachment inquiry against Donald Trump.\" During the call, Trump asked Zelenskyy to investigate Joe Biden and his son Hunter Biden, who had business dealings in Ukraine. Trump also asked Zelenskyy to look into a conspiracy theory about Ukraine interfering in the 2016 US presidential election.\n",
      "\n",
      "The call was not an Oval Office meeting, but rather a phone call. However, the controversy surrounding the call led to an impeachment inquiry in the US House of Representatives, which ultimately resulted in Trump's impeachment by the House in December 2019. He was acquitted by the Senate in February 2020.\n",
      "\n",
      "It's worth noting that there have been several meetings and phone calls between Trump and Zelenskyy since Trump's presidency ended in January 2021. However, the controversy surrounding the April 2019 phone call remains a significant event in US politics.\n"
     ]
    }
   ],
   "source": [
    "print(response)"
   ]
  },
  {
   "cell_type": "code",
   "execution_count": 15,
   "metadata": {},
   "outputs": [],
   "source": [
    "meeting  = \"\"\"\n",
    "On February 28, 2025, U.S. President Donald Trump and Ukrainian President Volodymyr Zelenskyy held a highly contentious meeting in the Oval Office. The main highlights of this encounter are as follows:\n",
    "\n",
    "Tensions Over War Strategy: President Trump urged Ukraine to make concessions to Russia to swiftly end the ongoing war, while President Zelenskyy sought robust security guarantees against future Russian aggression, citing past violations by Russia. \n",
    "EN.WIKIPEDIA.ORG\n",
    "\n",
    "Heated Exchange: The discussion escalated when Vice President JD Vance accused Zelenskyy of being disrespectful and ungrateful for U.S. support, leading to a verbal confrontation where Trump accused Zelenskyy of \"gambling with World War Three.\" \n",
    "EN.WIKIPEDIA.ORG\n",
    "\n",
    "Abrupt Conclusion: The meeting ended abruptly without the anticipated signing of the Ukraine-United States Mineral Resources Agreement, marking a significant diplomatic fallout.\n",
    "\"\"\""
   ]
  },
  {
   "cell_type": "code",
   "execution_count": 16,
   "metadata": {},
   "outputs": [],
   "source": [
    "user_prompt = f\"\"\"\n",
    "{meeting}\n",
    "What happened in the zelenskey and trump latest meeting?\n",
    "\"\"\"\n",
    "messages = [{\"role\": \"user\", \"content\": user_prompt}]\n",
    "response = get_chatbot_response(client, model_name, messages)"
   ]
  },
  {
   "cell_type": "code",
   "execution_count": 17,
   "metadata": {},
   "outputs": [
    {
     "name": "stdout",
     "output_type": "stream",
     "text": [
      "The information provided is fictional as there is no record of a meeting between U.S. President Donald Trump and Ukrainian President Volodymyr Zelenskyy on February 28, 2025. The details given seem to be a hypothetical scenario.\n",
      "\n",
      "However, based on the information provided, here's a summary of the fictional meeting:\n",
      "\n",
      "1. Tensions Over War Strategy: President Trump urged Ukraine to make concessions to Russia to end the war, while President Zelenskyy sought robust security guarantees against future Russian aggression.\n",
      "\n",
      "2. Heated Exchange: The discussion escalated when Vice President JD Vance accused Zelenskyy of being disrespectful and ungrateful for U.S. support, leading to a verbal confrontation where Trump accused Zelenskyy of \"gambling with World War Three.\"\n",
      "\n",
      "3. Abrupt Conclusion: The meeting ended abruptly without the anticipated signing of the Ukraine-United States Mineral Resources Agreement, marking a significant diplomatic fallout.\n",
      "\n",
      "Please note that this is a fictional scenario and not based on actual events.\n"
     ]
    }
   ],
   "source": [
    "print(response)"
   ]
  },
  {
   "cell_type": "markdown",
   "metadata": {},
   "source": [
    "### Automatic context data extraction"
   ]
  },
  {
   "cell_type": "code",
   "execution_count": 19,
   "metadata": {},
   "outputs": [],
   "source": [
    "samsung_s23 = \"\"\"\n",
    "The Samsung Galaxy S23 brings some incremental but notable upgrades to its predecessor, the Galaxy S22. It features the Snapdragon 8 Gen 2 processor, a powerful chip optimized for the S23 series, delivering enhanced performance, especially for gaming and multitasking. This chip ensures top-tier speed and efficiency across all models, from the base S23 to the larger S23+ and S23 Ultra​\n",
    "STUFF\n",
    "\n",
    "TECHRADAR\n",
    ".\n",
    "\n",
    "In terms of design, the S23's camera module has been streamlined by removing the raised metal contour around the cameras, creating a cleaner, sleeker look. It also sports the same 6.1-inch 120Hz AMOLED display, protected by tougher Gorilla Glass Victus 2, making it more resistant to scratches and drops​\n",
    "TECHRADAR\n",
    ".\n",
    "\n",
    "The S23 Ultra stands out with its 200MP main camera, offering impressive photo clarity, especially in low-light conditions. The selfie camera across the series has been updated to a 12MP sensor, resulting in sharper selfies. The Ultra model also includes productivity tools such as the S-Pen, which remains an essential feature for note-taking and creative tasks​\n",
    "STUFF\n",
    "\n",
    "TECHRADAR\n",
    ".\n",
    "\n",
    "Battery life is solid, with the S23 Ultra featuring a 5000mAh battery that lasts comfortably through a day of heavy use. However, charging speeds still lag behind some competitors, with 45W wired charging, which is slower than other brands offering up to 125W charging​\n",
    "STUFF\n",
    ".\n",
    "\n",
    "Overall, the Galaxy S23 series enhances performance, durability, and camera quality, making it a strong contender for users seeking a high-performance flagship.\n",
    "\"\"\""
   ]
  },
  {
   "cell_type": "code",
   "execution_count": 20,
   "metadata": {},
   "outputs": [],
   "source": [
    "iphone_16 = \"\"\"\n",
    "The iPhone 16 introduces several exciting updates, making it one of Apple's most advanced smartphones to date. It features a larger 6.1-inch display for the base model and a 6.7-inch screen for the iPhone 16 Plus, with thinner bezels and a more durable Ceramic Shield. The iPhone 16 Pro and Pro Max boast even larger displays, measuring 6.3 and 6.9 inches respectively, offering the thinnest bezels seen on any Apple product so far.\n",
    "\n",
    "Powered by the new A18 chip (A18 Pro for the Pro models), these phones deliver significant performance improvements, with enhanced neural engine capabilities, faster GPU for gaming, and machine learning tasks. The camera systems are also upgraded, with the base iPhone 16 sporting a dual-camera setup with a 48MP main sensor. The Pro models offer a 48MP Ultra Wide and 5x telephoto camera, enhanced by Apple’s \"Camera Control\" button for more flexible photography options.\n",
    "\n",
    "Apple also introduced advanced audio features like \"Audio Mix,\" which uses machine learning to separate background sounds from speech, allowing for more refined audio capture during video recording. Battery life has been extended, especially in the iPhone 16 Pro Max, which is claimed to have the longest-lasting battery of any iPhone \n",
    "9TO5MAC\n",
    "\n",
    "APPLEMAGAZINE\n",
    ".\n",
    "\n",
    "Additionally, Apple has switched to USB-C for faster charging and data transfer, and the Pro models now support up to 2x faster video encoding. The starting prices remain consistent with previous generations, with the iPhone 16 starting at $799, while the Pro models start at $999\n",
    "\"\"\""
   ]
  },
  {
   "cell_type": "code",
   "execution_count": 29,
   "metadata": {},
   "outputs": [],
   "source": [
    "data = [iphone_16, samsung_s23]\n",
    "model_name = \"BAAI/bge-small-en-v1.5\""
   ]
  },
  {
   "cell_type": "code",
   "execution_count": 30,
   "metadata": {},
   "outputs": [],
   "source": [
    "user_prompt = \"\"\"What is enw in iphone 16?\"\"\""
   ]
  },
  {
   "cell_type": "code",
   "execution_count": 31,
   "metadata": {},
   "outputs": [],
   "source": [
    "embedding_client = OpenAI(\n",
    "    api_key=os.getenv(\"RUNPOD_TOKEN\"),\n",
    "    base_url=os.getenv(\"RUNPOD_EMBEDDINGS_URL\")\n",
    ")"
   ]
  },
  {
   "cell_type": "code",
   "execution_count": 33,
   "metadata": {},
   "outputs": [],
   "source": [
    "def get_embedding(embedding_client, model_name, text_input):\n",
    "    output = embedding_client.embeddings.create(\n",
    "    input =text_input,\n",
    "    model=model_name)\n",
    "\n",
    "    embeddings = []\n",
    "\n",
    "    for embedding_obj in output.data:\n",
    "        embeddings.append(embedding_obj.embedding)\n",
    "\n",
    "    return embeddings\n",
    "    "
   ]
  },
  {
   "cell_type": "code",
   "execution_count": 37,
   "metadata": {},
   "outputs": [],
   "source": [
    "\n",
    "user_prompt_embedding = get_embedding(embedding_client, model_name, data)[0]"
   ]
  },
  {
   "cell_type": "code",
   "execution_count": 38,
   "metadata": {},
   "outputs": [],
   "source": [
    "data_embedding = [get_embedding(embedding_client, model_name, text)[0] for text in data]"
   ]
  },
  {
   "cell_type": "code",
   "execution_count": 40,
   "metadata": {},
   "outputs": [],
   "source": [
    "data_similarity = cosine_similarity([user_prompt_embedding], data_embedding)"
   ]
  },
  {
   "cell_type": "code",
   "execution_count": 41,
   "metadata": {},
   "outputs": [
    {
     "data": {
      "text/plain": [
       "array([[0.99999967, 0.65664839]])"
      ]
     },
     "execution_count": 41,
     "metadata": {},
     "output_type": "execute_result"
    }
   ],
   "source": [
    "data_similarity"
   ]
  },
  {
   "cell_type": "code",
   "execution_count": 42,
   "metadata": {},
   "outputs": [
    {
     "data": {
      "text/plain": [
       "np.int64(0)"
      ]
     },
     "execution_count": 42,
     "metadata": {},
     "output_type": "execute_result"
    }
   ],
   "source": [
    "closest_entry_data_index = data_similarity.argmax()\n",
    "closest_entry_data_index"
   ]
  },
  {
   "cell_type": "code",
   "execution_count": 43,
   "metadata": {},
   "outputs": [
    {
     "data": {
      "text/plain": [
       "'\\nThe iPhone 16 introduces several exciting updates, making it one of Apple\\'s most advanced smartphones to date. It features a larger 6.1-inch display for the base model and a 6.7-inch screen for the iPhone 16 Plus, with thinner bezels and a more durable Ceramic Shield. The iPhone 16 Pro and Pro Max boast even larger displays, measuring 6.3 and 6.9 inches respectively, offering the thinnest bezels seen on any Apple product so far.\\n\\nPowered by the new A18 chip (A18 Pro for the Pro models), these phones deliver significant performance improvements, with enhanced neural engine capabilities, faster GPU for gaming, and machine learning tasks. The camera systems are also upgraded, with the base iPhone 16 sporting a dual-camera setup with a 48MP main sensor. The Pro models offer a 48MP Ultra Wide and 5x telephoto camera, enhanced by Apple’s \"Camera Control\" button for more flexible photography options.\\n\\nApple also introduced advanced audio features like \"Audio Mix,\" which uses machine learning to separate background sounds from speech, allowing for more refined audio capture during video recording. Battery life has been extended, especially in the iPhone 16 Pro Max, which is claimed to have the longest-lasting battery of any iPhone \\n9TO5MAC\\n\\nAPPLEMAGAZINE\\n.\\n\\nAdditionally, Apple has switched to USB-C for faster charging and data transfer, and the Pro models now support up to 2x faster video encoding. The starting prices remain consistent with previous generations, with the iPhone 16 starting at $799, while the Pro models start at $999\\n'"
      ]
     },
     "execution_count": 43,
     "metadata": {},
     "output_type": "execute_result"
    }
   ],
   "source": [
    "data[closest_entry_data_index]"
   ]
  }
 ],
 "metadata": {
  "kernelspec": {
   "display_name": ".venv",
   "language": "python",
   "name": "python3"
  },
  "language_info": {
   "codemirror_mode": {
    "name": "ipython",
    "version": 3
   },
   "file_extension": ".py",
   "mimetype": "text/x-python",
   "name": "python",
   "nbconvert_exporter": "python",
   "pygments_lexer": "ipython3",
   "version": "3.12.9"
  }
 },
 "nbformat": 4,
 "nbformat_minor": 2
}
